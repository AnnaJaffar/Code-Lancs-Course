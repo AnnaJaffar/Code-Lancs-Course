{
 "cells": [
  {
   "cell_type": "markdown",
   "metadata": {},
   "source": [
    "To complete the homework simply fill in your answers in this jupyter notebook!\n",
    "\n",
    "Remember that there are many ways in which markup cells can be used and you can add useful things such as references and images to better explain your answers.\n",
    "\n",
    "It is perfectly fine if you copy your answer from somewhere else in the internet as long as you understand the code you copied and cite the source. However, refrain from asking help for your colleagues (unless you're really struggling) as the ability to find information online is crucial for any tech role you might want to have in the future.\n",
    "\n",
    "<h1> Question 1: Multiple prints</h1>\n",
    "Create 3 different variables of different types and print their values using a single print statement."
   ]
  },
  {
   "cell_type": "code",
   "execution_count": 5,
   "metadata": {},
   "outputs": [
    {
     "name": "stdout",
     "output_type": "stream",
     "text": [
      "2.501\n",
      "I am a string\n",
      "('item 1', 2, 2.501)\n"
     ]
    }
   ],
   "source": [
    "FloatNumber=2.501\n",
    "print(FloatNumber)\n",
    "TextVariable='I am a string'\n",
    "print(TextVariable)\n",
    "A_List=('item 1',2,FloatNumber)\n",
    "print(A_List)\n"
   ]
  },
  {
   "cell_type": "markdown",
   "metadata": {},
   "source": [
    "<h1> Question 2: Data structures</h1>\n",
    "Create two variables containing each a nested list and a nested dictionary and demonstrate how to access specific items of it."
   ]
  },
  {
   "cell_type": "code",
   "execution_count": 79,
   "metadata": {
    "scrolled": true
   },
   "outputs": [
    {
     "name": "stdout",
     "output_type": "stream",
     "text": [
      "Here we access first list of ids in NestedList('LI1', 'LI2', 'LI3')\n",
      "ID: LI1 \n",
      "Name: Anna\n",
      "Lets see if we can see whats in Storage Cabinet: oil\n"
     ]
    }
   ],
   "source": [
    "ListID=('LI1','LI2','LI3')\n",
    "ListInfo=('Anna','Michelle','Kate')\n",
    "NestedList=(ListID,ListInfo)\n",
    "#Accessing the list of \n",
    "print('Here we access first list of ids in NestedList'+ str(NestedList[0]))\n",
    "#for accessing a specific ID...\n",
    "if \"LI1\" in NestedList[0]:\n",
    "    resultList= NestedList[1]\n",
    "    print('ID: LI1 \\nName: '+ resultList[0])\n",
    "    \n",
    "a_dictionary={'ingredients':'egg','ingredients2':'onions',\n",
    "             'Method':'fry them'}\n",
    "b_dictionary={'cabinets1': 'beddings',\n",
    "             'cabinet2': 'dishes',\n",
    "             'cabinet3': 'oil'}\n",
    "NestedDictionary={'Recipes':a_dictionary,'Storage':b_dictionary}\n",
    "print('Lets see if we can see whats in Storage Cabinet: '+ NestedDictionary[\"Storage\"][\"cabinet3\"])\n",
    "\n",
    "    \n",
    "    \n",
    "\n",
    "\n"
   ]
  },
  {
   "cell_type": "markdown",
   "metadata": {},
   "source": [
    "Now consider the following list,"
   ]
  },
  {
   "cell_type": "code",
   "execution_count": 60,
   "metadata": {},
   "outputs": [
    {
     "name": "stdout",
     "output_type": "stream",
     "text": [
      "[1, 2, 3, 4]\n",
      "[2, 4, 6, 8]\n",
      "[3, 6, 9, 12, 15, 18, 21, 24, 27, 30, 33, 36, 39, 42, 45, 48, 51, 54, 57, 60, 63, 66, 69, 72, 75, 78, 81, 84, 87, 90, 93, 96, 99, 102, 105, 108, 111, 114, 117, 120, 123, 126, 129, 132, 135, 138, 141, 144, 147, 150, 153, 156, 159, 162, 165, 168, 171, 174, 177, 180, 183, 186, 189, 192, 195, 198, 201, 204, 207, 210, 213, 216, 219, 222, 225, 228, 231, 234, 237, 240, 243, 246, 249, 252, 255, 258, 261, 264, 267, 270, 273, 276, 279, 282, 285, 288, 291, 294, 297]\n",
      "apple is so yummy.\n",
      "mango is so yummy.\n",
      "papaya is so yummy.\n",
      "banana is so yummy.\n",
      "kiwi is so yummy.\n",
      "guava is so yummy.\n",
      "sharon is so yummy.\n"
     ]
    }
   ],
   "source": [
    "#1. slicing the list\n",
    "a_list = [1,2,3,4,5,6,7,8,9]\n",
    "sliced_list = [x for x in a_list if x < 5]\n",
    "print(sliced_list)\n",
    "\"\"\"\n",
    "2. make a loop to create a new list containing only the EVEN\n",
    "numbers of this list (bonus point if you use a list comprehension!!);\n",
    "\"\"\"\n",
    "Even_List=[x for x in a_list if x%2==0]\n",
    "print(Even_List)\n",
    "\n",
    "\"\"\"\n",
    "3.make a loop to create a new list containing \n",
    "only the numbers that are multiples of 3; Bonus - make a loop that \n",
    "will print every item on the list inside a sentence using a f-string.\n",
    "\"\"\"\n",
    "Multiples=[x*3 for x in range(1,100)]\n",
    "print(Multiples)\n",
    "\n",
    "\"\"\"\n",
    "Bonus - make a loop that will print \n",
    "every item on the list inside a sentence using a f-string\n",
    "\"\"\"\n",
    "fruits = ['apple', 'mango', 'papaya', 'banana', 'kiwi', 'guava', 'sharon']\n",
    "\n",
    "for yummy in fruits:\n",
    "    print(f\"{yummy} is so yummy.\")"
   ]
  },
  {
   "cell_type": "markdown",
   "metadata": {},
   "source": [
    "1 - slice this list (by index) to contain only the numbers smaller than 5; <br>\n",
    "2 - make a loop to create a new list containing only the EVEN numbers of this list (bonus point if you use a list comprehension!!);<br>\n",
    "3 - make a loop to create a new list containing only the numbers that are multiples of 3;<br>\n",
    "Bonus - make a loop that will print every item on the list inside a sentence using a f-string."
   ]
  },
  {
   "cell_type": "markdown",
   "metadata": {},
   "source": [
    "<h1>Question 3: Creating functions</h1>\n",
    "\n",
    "Create a function that takes a list of numbers and convert them into strings. (bonus point if you use a list comprehension!!)"
   ]
  },
  {
   "cell_type": "code",
   "execution_count": 8,
   "metadata": {},
   "outputs": [
    {
     "data": {
      "text/plain": [
       "1"
      ]
     },
     "execution_count": 8,
     "metadata": {},
     "output_type": "execute_result"
    }
   ],
   "source": [
    "1"
   ]
  },
  {
   "cell_type": "code",
   "execution_count": 9,
   "metadata": {},
   "outputs": [
    {
     "data": {
      "text/plain": [
       "'1'"
      ]
     },
     "execution_count": 9,
     "metadata": {},
     "output_type": "execute_result"
    }
   ],
   "source": [
    "variable = 1\n",
    "str(variable)"
   ]
  },
  {
   "cell_type": "code",
   "execution_count": 11,
   "metadata": {},
   "outputs": [],
   "source": [
    "yet_another_list = []"
   ]
  },
  {
   "cell_type": "code",
   "execution_count": 12,
   "metadata": {},
   "outputs": [
    {
     "data": {
      "text/plain": [
       "[]"
      ]
     },
     "execution_count": 12,
     "metadata": {},
     "output_type": "execute_result"
    }
   ],
   "source": [
    "yet_another_list"
   ]
  },
  {
   "cell_type": "code",
   "execution_count": 13,
   "metadata": {},
   "outputs": [],
   "source": [
    "yet_another_list.append('cat')"
   ]
  },
  {
   "cell_type": "code",
   "execution_count": 14,
   "metadata": {},
   "outputs": [
    {
     "data": {
      "text/plain": [
       "['cat']"
      ]
     },
     "execution_count": 14,
     "metadata": {},
     "output_type": "execute_result"
    }
   ],
   "source": [
    "yet_another_list"
   ]
  },
  {
   "cell_type": "code",
   "execution_count": null,
   "metadata": {},
   "outputs": [],
   "source": []
  },
  {
   "cell_type": "code",
   "execution_count": 15,
   "metadata": {},
   "outputs": [],
   "source": [
    "def numberToString(the_list):\n",
    "    another_list = []\n",
    "    \n",
    "    for item in the_list:    \n",
    "        converted_item = str(item)\n",
    "        another_list.append(converted_item)\n",
    "        \n",
    "    return(another_list)"
   ]
  },
  {
   "cell_type": "code",
   "execution_count": null,
   "metadata": {},
   "outputs": [],
   "source": []
  },
  {
   "cell_type": "code",
   "execution_count": 16,
   "metadata": {},
   "outputs": [
    {
     "data": {
      "text/plain": [
       "['1', '2', '3', '4', '5']"
      ]
     },
     "execution_count": 16,
     "metadata": {},
     "output_type": "execute_result"
    }
   ],
   "source": [
    "my_list = [1,2,3,4,5]\n",
    "\n",
    "numberToString(the_list=my_list)"
   ]
  },
  {
   "cell_type": "code",
   "execution_count": 20,
   "metadata": {},
   "outputs": [
    {
     "data": {
      "text/plain": [
       "['1', '2', '3', '4', '5']"
      ]
     },
     "execution_count": 20,
     "metadata": {},
     "output_type": "execute_result"
    }
   ],
   "source": [
    "new_list = [str(number) for number in my_list]\n",
    "new_list"
   ]
  },
  {
   "cell_type": "code",
   "execution_count": 19,
   "metadata": {},
   "outputs": [
    {
     "data": {
      "text/plain": [
       "['0', '1', '2', '3', '4', '5', '6', '7', '8', '9']"
      ]
     },
     "execution_count": 19,
     "metadata": {},
     "output_type": "execute_result"
    }
   ],
   "source": [
    "new_list = [str(number) for number in range(10)]\n",
    "new_list"
   ]
  },
  {
   "cell_type": "markdown",
   "metadata": {},
   "source": [
    "Create a small calculator. The function should pick two numbers and perform one of four mathematical operations with it (sum/subtraction, division, multiplication, exponents). The desired operation should be an option (hint: what IF the user wants to do a sum?)\n",
    "\n",
    "Bonus: Make a function that can pick ANY number of numbers."
   ]
  },
  {
   "cell_type": "code",
   "execution_count": 96,
   "metadata": {},
   "outputs": [
    {
     "name": "stdout",
     "output_type": "stream",
     "text": [
      "Perform one of the following operations:\n",
      " SUM,\n",
      " SUBTRACTION,\n",
      " DIVISION,\n",
      " MULTIPLICATION,\n",
      " EXPONENTS\n",
      " e.g. 1+1,2-1,2/2,2*2 or 2^2:\n",
      "\n",
      "2+2\n",
      "Result: 4.0\n"
     ]
    }
   ],
   "source": [
    "print(\"Perform one of the following operations:\\n SUM,\\n SUBTRACTION,\\n DIVISION,\\n MULTIPLICATION,\\n EXPONENTS\\n e.g. 1+1,2-1,2/2,2*2 or 2^2:\\n\")\n",
    "\n",
    "Operation=input()\n",
    "\n",
    "def MathsOperation(Operation):\n",
    "    result=0.0\n",
    "    if '+' in Operation:\n",
    "        \n",
    "        x=Operation.index('+')\n",
    "        a=float(Operation[:x])\n",
    "        x=x+1\n",
    "        b=float(Operation[x:])\n",
    "        result=a+b\n",
    "        \n",
    "    if '-' in Operation:\n",
    "        x=Operation.index('-')\n",
    "        a=float(Operation[:x])\n",
    "        x=x+1\n",
    "        b=float(Operation[x:])\n",
    "        result=a-b\n",
    "        \n",
    "    if '*' in Operation:\n",
    "        x=Operation.index('*')\n",
    "        a=float(Operation[:x])\n",
    "        x=x+1\n",
    "        b=float(Operation[x:])\n",
    "        result=a*b\n",
    "        \n",
    "    if '/' in Operation:\n",
    "        x=Operation.index('/')\n",
    "        a=float(Operation[:x])\n",
    "        x=x+1\n",
    "        b=float(Operation[x:])\n",
    "        result=a/b\n",
    "        \n",
    "    if '^' in Operation:\n",
    "        x=Operation.index('^')\n",
    "        a=float(Operation[:x])\n",
    "        x=x+1\n",
    "        b=float(Operation[x:])\n",
    "        result=a**b\n",
    "            \n",
    "    return str(result)\n",
    "\n",
    "print(\"Result: \"+ MathsOperation(Operation))"
   ]
  },
  {
   "cell_type": "markdown",
   "metadata": {},
   "source": [
    "Create a function that check if a number is within a list of numbers."
   ]
  },
  {
   "cell_type": "code",
   "execution_count": 107,
   "metadata": {},
   "outputs": [
    {
     "name": "stdout",
     "output_type": "stream",
     "text": [
      "enter a number to find\n",
      "5\n",
      "yes 5 is in the list\n"
     ]
    }
   ],
   "source": [
    "def FindNo (a_list,NotoFind):\n",
    "    if NotoFind in a_list:\n",
    "        print(f'yes {NotoFind} is in the list')\n",
    "    elif NotoFind not in a_list:\n",
    "        print('Sorry we could not find that number')\n",
    "test_list=[1,2,3,4,5,6,7]\n",
    "print('enter a number to find')\n",
    "no=int(input())\n",
    "FindNo(test_list,no)\n",
    "\n",
    "    "
   ]
  },
  {
   "cell_type": "markdown",
   "metadata": {},
   "source": [
    "Bonus: similar to the item above, create a function that checks if a string contains a given substring, e.g. 'I have a cat' contains the string sequence 'cat' or 'ave'."
   ]
  },
  {
   "cell_type": "code",
   "execution_count": null,
   "metadata": {},
   "outputs": [],
   "source": []
  },
  {
   "cell_type": "markdown",
   "metadata": {},
   "source": [
    "Bonus: create a function that given the initial speed of a projectile that is thrown at 90 degrees will calculate how much time the projectile will take to get back to the initial altitude. (yes you're expected to disregard air resistence)"
   ]
  },
  {
   "cell_type": "code",
   "execution_count": null,
   "metadata": {},
   "outputs": [],
   "source": []
  },
  {
   "cell_type": "markdown",
   "metadata": {},
   "source": [
    "<h1>solve these questions...or ELSE</h1>\n",
    "\n",
    "Why the nested if statement below doesn't only produce the first print? Can you modify it so it produces the desired output?"
   ]
  },
  {
   "cell_type": "code",
   "execution_count": 108,
   "metadata": {},
   "outputs": [
    {
     "name": "stdout",
     "output_type": "stream",
     "text": [
      "Yeeeey!\n"
     ]
    }
   ],
   "source": [
    "food = 'Pizza'\n",
    "drinks = 'Beer'\n",
    "\n",
    "if food == 'Pizza' and drinks == 'Beer':\n",
    "    print('Yeeeey!')\n",
    "elif food == 'Pizza' and drinks != 'Beer':\n",
    "    print('Yey.')\n",
    "elif food != 'Pizza' and drinks == 'Beer':\n",
    "    print('Yey!')\n",
    "else:\n",
    "    print('.....???')"
   ]
  },
  {
   "cell_type": "markdown",
   "metadata": {},
   "source": [
    "<h1> Debugging </h1>\n",
    "None of the blocks of code below work. Your task is to make them work (if possible!) and add markup cells (or comments) explaining why they don't work."
   ]
  },
  {
   "cell_type": "markdown",
   "metadata": {},
   "source": [
    "print(\"Is this working?\")"
   ]
  },
  {
   "cell_type": "code",
   "execution_count": 1,
   "metadata": {},
   "outputs": [],
   "source": [
    "#print(\"does this work?\")\n",
    "#this did not work because different double commas were used on both sides of string"
   ]
  },
  {
   "cell_type": "code",
   "execution_count": 109,
   "metadata": {},
   "outputs": [
    {
     "name": "stdout",
     "output_type": "stream",
     "text": [
      "about now?\n"
     ]
    }
   ],
   "source": [
    "print(\"about now?\")"
   ]
  },
  {
   "cell_type": "markdown",
   "metadata": {},
   "source": [
    "text_variable = \"Today on a scale from 1 to 10 I am feeling...\"\n",
    "my_mood = 10\n",
    "#this wasnt working because the text hasnt been concatenated and my_mood hasnt been converted to string, print function only uses string as arguments\n",
    "print(text_variable my_mood)"
   ]
  },
  {
   "cell_type": "code",
   "execution_count": 111,
   "metadata": {},
   "outputs": [
    {
     "name": "stdout",
     "output_type": "stream",
     "text": [
      "Today on a scale from 1 to 10 I am feeling...10\n"
     ]
    }
   ],
   "source": [
    "text_variable = \"Today on a scale from 1 to 10 I am feeling...\"\n",
    "my_mood = 10\n",
    "print(text_variable+ str(my_mood)) #Yep there are ways to make it work with a + operator too!"
   ]
  },
  {
   "cell_type": "code",
   "execution_count": 113,
   "metadata": {},
   "outputs": [],
   "source": [
    "#item1 and item2 have to be in commas, keys are strings\n",
    "a_dictionary = {'item1': 'Value 1',\n",
    "                'item2': 'value 2'}\n"
   ]
  },
  {
   "cell_type": "code",
   "execution_count": 114,
   "metadata": {},
   "outputs": [
    {
     "data": {
      "text/plain": [
       "True"
      ]
     },
     "execution_count": 114,
     "metadata": {},
     "output_type": "execute_result"
    }
   ],
   "source": [
    "1 == 1 # Should return True\n",
    "#== is a boolean operation whereas = is to asign a value to a variable"
   ]
  },
  {
   "cell_type": "code",
   "execution_count": 115,
   "metadata": {},
   "outputs": [
    {
     "name": "stdout",
     "output_type": "stream",
     "text": [
      "Clap your hands\n"
     ]
    }
   ],
   "source": [
    "# Why isn't the outcome 'Clap your hands?'\n",
    "#because mood has 'h' in small letter where as the if condition has 'h' in capital\n",
    "mood = 'happy'\n",
    "if mood == 'happy':\n",
    "    print('Clap your hands')\n",
    "else:\n",
    "    print('...do I look like I have this one figured out?')"
   ]
  },
  {
   "cell_type": "markdown",
   "metadata": {},
   "source": [
    "def printerfunction(x,y):\n",
    "print(x+y)\n",
    "# this wont work because print function only takes string so we would need to concatenate x and y\n",
    "printerfunction(\"a word\", \"another word\")\n",
    "\n"
   ]
  },
  {
   "cell_type": "code",
   "execution_count": 117,
   "metadata": {},
   "outputs": [
    {
     "name": "stdout",
     "output_type": "stream",
     "text": [
      "a word another word\n"
     ]
    }
   ],
   "source": [
    "def printerfunction(x,y):\n",
    "    print(x+y)\n",
    "\n",
    "printerfunction(\"a word\", \" another word\")"
   ]
  },
  {
   "cell_type": "code",
   "execution_count": 121,
   "metadata": {},
   "outputs": [
    {
     "name": "stdout",
     "output_type": "stream",
     "text": [
      "Clap your hands\n"
     ]
    }
   ],
   "source": [
    "# bonus/annoying round, why is this crashing?\n",
    "mood = 'Happy'\n",
    "if mood == 'Happy':\n",
    "   print('Clap your hands')\n",
    "else:\n",
    "    print('...do I look like I have this one figured out?')"
   ]
  },
  {
   "cell_type": "code",
   "execution_count": null,
   "metadata": {},
   "outputs": [],
   "source": []
  }
 ],
 "metadata": {
  "kernelspec": {
   "display_name": "Python 3 (ipykernel)",
   "language": "python",
   "name": "python3"
  },
  "language_info": {
   "codemirror_mode": {
    "name": "ipython",
    "version": 3
   },
   "file_extension": ".py",
   "mimetype": "text/x-python",
   "name": "python",
   "nbconvert_exporter": "python",
   "pygments_lexer": "ipython3",
   "version": "3.11.5"
  }
 },
 "nbformat": 4,
 "nbformat_minor": 4
}
